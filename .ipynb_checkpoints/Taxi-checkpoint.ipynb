{
 "cells": [
  {
   "cell_type": "markdown",
   "id": "08a6739a",
   "metadata": {},
   "source": [
    "# Taxi problem"
   ]
  },
  {
   "cell_type": "markdown",
   "id": "68ed3ce3",
   "metadata": {},
   "source": [
    "Follow the tutorial: https://www.learndatasci.com/tutorials/reinforcement-q-learning-scratch-python-openai-gym/"
   ]
  },
  {
   "cell_type": "code",
   "execution_count": 1,
   "id": "32da1f66",
   "metadata": {},
   "outputs": [],
   "source": [
    "import gym\n",
    "from IPython.display import clear_output\n",
    "from time import sleep\n",
    "import time\n",
    "import numpy as np\n",
    "import random\n",
    "import matplotlib.pyplot as plt"
   ]
  },
  {
   "cell_type": "code",
   "execution_count": 2,
   "id": "7f15c751",
   "metadata": {},
   "outputs": [
    {
     "name": "stdout",
     "output_type": "stream",
     "text": [
      "+---------+\n",
      "|R: | : :\u001b[34;1mG\u001b[0m|\n",
      "| : | : : |\n",
      "| : : : : |\n",
      "| | : | : |\n",
      "|\u001b[35m\u001b[43mY\u001b[0m\u001b[0m| : |B: |\n",
      "+---------+\n",
      "\n"
     ]
    }
   ],
   "source": [
    "env = gym.make(\"Taxi-v3\").env\n",
    "env.render()"
   ]
  },
  {
   "cell_type": "markdown",
   "id": "a409fd05",
   "metadata": {},
   "source": [
    "The filled square represents the taxi, which is yellow without a passenger and green with a passenger.\n",
    "\n",
    "The pipe (\"|\") represents a wall which the taxi cannot cross.\n",
    "\n",
    "R, G, Y, B are the possible pickup and destination locations. The blue letter represents the current passenger pick-up location, and the purple letter is the current destination."
   ]
  },
  {
   "cell_type": "code",
   "execution_count": 3,
   "id": "d56b8152",
   "metadata": {},
   "outputs": [
    {
     "name": "stdout",
     "output_type": "stream",
     "text": [
      "Action Space Discrete(6)\n",
      "State Space Discrete(500)\n"
     ]
    }
   ],
   "source": [
    "print(\"Action Space {}\".format(env.action_space))\n",
    "print(\"State Space {}\".format(env.observation_space))"
   ]
  },
  {
   "cell_type": "code",
   "execution_count": 4,
   "id": "dd3e0dbf",
   "metadata": {},
   "outputs": [
    {
     "name": "stdout",
     "output_type": "stream",
     "text": [
      "State: 328\n",
      "+---------+\n",
      "|\u001b[35mR\u001b[0m: | : :G|\n",
      "| : | : : |\n",
      "| : : : : |\n",
      "| |\u001b[43m \u001b[0m: | : |\n",
      "|\u001b[34;1mY\u001b[0m| : |B: |\n",
      "+---------+\n",
      "\n"
     ]
    }
   ],
   "source": [
    "state = env.encode(3, 1, 2, 0) # (taxi row, taxi column, passenger index, destination index)\n",
    "print(\"State:\", state)\n",
    "\n",
    "env.s = state\n",
    "env.render()"
   ]
  },
  {
   "cell_type": "markdown",
   "id": "486f0e43",
   "metadata": {},
   "source": [
    "# Random Policy"
   ]
  },
  {
   "cell_type": "code",
   "execution_count": 5,
   "id": "14bfddb3",
   "metadata": {},
   "outputs": [],
   "source": [
    "env.s = 328  # set environment to illustration's state\n",
    "\n",
    "steps = 0\n",
    "penalties, rw = 0, 0\n",
    "\n",
    "frames = [] # for animation\n",
    "\n",
    "done = False\n",
    "\n",
    "while not done:\n",
    "    action = env.action_space.sample() #Select a random action\n",
    "    state, reward, done, info = env.step(action) #implement action\n",
    "\n",
    "    if reward == -10:\n",
    "        penalties += 1\n",
    "    \n",
    "    # Put each rendered frame into dict for animation\n",
    "    frames.append({\n",
    "        'frame': env.render(mode='ansi'),\n",
    "        'state': state,\n",
    "        'action': action,\n",
    "        'reward': rw\n",
    "        }\n",
    "    )\n",
    "\n",
    "    steps += 1    "
   ]
  },
  {
   "cell_type": "code",
   "execution_count": 6,
   "id": "f48de162",
   "metadata": {},
   "outputs": [
    {
     "name": "stdout",
     "output_type": "stream",
     "text": [
      "+---------+\n",
      "|\u001b[35m\u001b[34;1m\u001b[43mR\u001b[0m\u001b[0m\u001b[0m: | : :G|\n",
      "| : | : : |\n",
      "| : : : : |\n",
      "| | : | : |\n",
      "|Y| : |B: |\n",
      "+---------+\n",
      "  (Dropoff)\n",
      "\n",
      "Timestep: 1673\n",
      "State: 0\n",
      "Action: 5\n",
      "Reward: 0\n",
      "Timesteps taken: 1673\n",
      "Penalties incurred: 568\n"
     ]
    }
   ],
   "source": [
    "def print_frames(frames):\n",
    "    for i, frame in enumerate(frames):\n",
    "        clear_output(wait=True)\n",
    "        print(frame['frame'])\n",
    "        print(f\"Timestep: {i + 1}\")\n",
    "        print(f\"State: {frame['state']}\")\n",
    "        print(f\"Action: {frame['action']}\")\n",
    "        print(f\"Reward: {frame['reward']}\")\n",
    "        sleep(.1)\n",
    "\n",
    "#visialize 1 episode\n",
    "print_frames(frames)   \n",
    "print(\"Timesteps taken: {}\".format(steps))\n",
    "print(\"Penalties incurred: {}\".format(penalties))"
   ]
  },
  {
   "cell_type": "code",
   "execution_count": 7,
   "id": "5973535b",
   "metadata": {},
   "outputs": [
    {
     "name": "stdout",
     "output_type": "stream",
     "text": [
      "Results after 100 episodes:\n",
      "Average timesteps per episode: 2316.05\n",
      "Average penalties per episode: 750.2\n",
      "Average reward per timestep: -3.9061548757582956\n",
      "Average time per episode: 0.0211 seconds\n"
     ]
    }
   ],
   "source": [
    "\"\"\"Evaluate random policy\"\"\"\n",
    "sum_epochs = 0\n",
    "sum_penalties = 0\n",
    "episodes = 100\n",
    "episode_reward_list = []\n",
    "\n",
    "tic = time.perf_counter()\n",
    "#loop through 100 episodes\n",
    "for _ in range(episodes):\n",
    "    #set current state to starting environment\n",
    "    state = env.reset()\n",
    "    step, penalties, ep_reward = 0, 0, 0\n",
    "    \n",
    "    #done = successfully dropped off passenger\n",
    "    done = False\n",
    "\n",
    "    #while not successfully drop off passenger\n",
    "    while not done:\n",
    "        #select a random action\n",
    "        action = env.action_space.sample()\n",
    "        \n",
    "        #apply the action\n",
    "        state, rw, done, info = env.step(action)\n",
    "        ep_reward += rw\n",
    "\n",
    "        #set penalty based on reward value for action\n",
    "        if rw == -10:\n",
    "            penalties += 1\n",
    "        #increment episode steps\n",
    "        step += 1\n",
    "\n",
    "    #after 1 episode, sum penalties and episodes\n",
    "    sum_penalties += penalties\n",
    "    sum_epochs += step\n",
    "    episode_reward_list.append(ep_reward)\n",
    "\n",
    "toc = time.perf_counter()\n",
    "average_time = (toc - tic)/episodes\n",
    "#print evaluation of agents performance\n",
    "print(f\"Results after {episodes} episodes:\")\n",
    "print(f\"Average timesteps per episode: {sum_epochs / episodes}\")\n",
    "print(f\"Average penalties per episode: {sum_penalties / episodes}\")\n",
    "print(f\"Average reward per timestep: {sum(episode_reward_list) / sum_epochs}\")\n",
    "print(f\"Average time per episode: {average_time:0.4f} seconds\")"
   ]
  },
  {
   "cell_type": "markdown",
   "id": "f856f407",
   "metadata": {},
   "source": [
    "# Q-learning"
   ]
  },
  {
   "cell_type": "code",
   "execution_count": 8,
   "id": "5f529a57",
   "metadata": {},
   "outputs": [],
   "source": [
    "q_table = np.zeros([env.observation_space.n, env.action_space.n])"
   ]
  },
  {
   "cell_type": "code",
   "execution_count": 9,
   "id": "ae426f09",
   "metadata": {},
   "outputs": [],
   "source": [
    "def policy(state):\n",
    "    if random.uniform(0, 1) >= epsilon:\n",
    "        return np.argmax(q_table[state]) # Exploit learnt values\n",
    "    else:\n",
    "        return env.action_space.sample() # Explore action space"
   ]
  },
  {
   "cell_type": "code",
   "execution_count": 10,
   "id": "ffbd08e0",
   "metadata": {},
   "outputs": [
    {
     "name": "stdout",
     "output_type": "stream",
     "text": [
      "Training finished\n",
      "Wall time: 23.8 s\n"
     ]
    }
   ],
   "source": [
    "%%time\n",
    "\"\"\"Training the agent\"\"\"\n",
    "# Hyperparameters\n",
    "alpha = 0.1\n",
    "gamma = 0.6\n",
    "epsilon = 0.1\n",
    "\n",
    "# For plotting metrics\n",
    "training_epochs = []\n",
    "training_penalties = []\n",
    "q_reward = []\n",
    "\n",
    "for i in range(100000):\n",
    "    #Initialize new state\n",
    "    state = env.reset()\n",
    "\n",
    "    steps, penalties, ep_reward = 0, 0, 0\n",
    "    done = False\n",
    "    \n",
    "    #while not successfully drop off passenger\n",
    "    while not done:\n",
    "        #Select an action\n",
    "        action = policy(state)\n",
    "        \n",
    "        #Implement the action\n",
    "        next_state, rw, done, _ = env.step(action) \n",
    "        \n",
    "        #Update a episode reward\n",
    "        ep_reward+= rw\n",
    "        \n",
    "        #Update q-value\n",
    "        next_max = np.max(q_table[next_state])        \n",
    "        new_value = (1 - alpha) * q_table[state, action] + alpha * (rw + gamma * next_max)\n",
    "        q_table[state, action] = new_value #update new q value\n",
    "\n",
    "        if rw == -10:\n",
    "            penalties += 1\n",
    "\n",
    "        state = next_state #move to next state\n",
    "        steps += 1\n",
    "    q_reward.append(ep_reward)\n",
    "    training_epochs.append(steps)\n",
    "    training_penalties.append(penalties)    \n",
    "\n",
    "print(\"Training finished\")"
   ]
  },
  {
   "cell_type": "code",
   "execution_count": 11,
   "id": "73d225b3",
   "metadata": {},
   "outputs": [
    {
     "data": {
      "text/plain": [
       "array([ -2.40683144,  -2.27325184,  -2.4107527 ,  -2.35705517,\n",
       "       -10.75067826, -10.52581907])"
      ]
     },
     "execution_count": 11,
     "metadata": {},
     "output_type": "execute_result"
    }
   ],
   "source": [
    "#Check q-value at state 328\n",
    "q_table[328]"
   ]
  },
  {
   "cell_type": "code",
   "execution_count": 12,
   "id": "2a2f6aa6",
   "metadata": {},
   "outputs": [
    {
     "name": "stdout",
     "output_type": "stream",
     "text": [
      "Results after 100 episodes:\n",
      "Average timesteps per episode: 13.19\n",
      "Average penalties per episode: 0.0\n",
      "Average reward per timestep: 0.5921152388172858\n",
      "Average time per episode: 0.0002 seconds\n"
     ]
    }
   ],
   "source": [
    "\"\"\"Evaluate agent's performance after Q-learning\"\"\"\n",
    "\n",
    "sum_epochs, sum_penalties = 0, 0\n",
    "episodes = 100\n",
    "episode_reward_list = []\n",
    "\n",
    "#for timing\n",
    "tic = time.perf_counter()\n",
    "\n",
    "for _ in range(episodes):\n",
    "    state = env.reset() #reset the environment\n",
    "    steps, penalties, ep_reward = 0, 0, 0\n",
    "    \n",
    "    done = False\n",
    "    \n",
    "    while not done:\n",
    "        action = np.argmax(q_table[state])\n",
    "        state, reward, done, info = env.step(action) #select an action\n",
    "        ep_reward += reward\n",
    "\n",
    "        if reward == -10:\n",
    "            penalties += 1\n",
    "\n",
    "        steps += 1\n",
    "    #after 1 episode, sum penalties and episodes\n",
    "    sum_penalties += penalties\n",
    "    sum_epochs += steps\n",
    "    episode_reward_list.append(ep_reward)\n",
    "    episode_reward = 0\n",
    "\n",
    "toc = time.perf_counter()\n",
    "average_time = (toc - tic)/episodes\n",
    "#print evaluation of agents performance\n",
    "print(f\"Results after {episodes} episodes:\")\n",
    "print(f\"Average timesteps per episode: {sum_epochs / episodes}\")\n",
    "print(f\"Average penalties per episode: {sum_penalties / episodes}\")\n",
    "print(f\"Average reward per timestep: {sum(episode_reward_list) / sum_epochs}\")\n",
    "print(f\"Average time per episode: {average_time:0.4f} seconds\")"
   ]
  },
  {
   "cell_type": "markdown",
   "id": "6da92693",
   "metadata": {},
   "source": [
    "# TD Learning"
   ]
  },
  {
   "cell_type": "code",
   "execution_count": 13,
   "id": "e0b1b109",
   "metadata": {},
   "outputs": [],
   "source": [
    "q_table = np.zeros([env.observation_space.n, env.action_space.n])"
   ]
  },
  {
   "cell_type": "code",
   "execution_count": 14,
   "id": "b7011f00",
   "metadata": {},
   "outputs": [
    {
     "name": "stdout",
     "output_type": "stream",
     "text": [
      "Training finished.\n",
      "\n",
      "Wall time: 1min 53s\n"
     ]
    }
   ],
   "source": [
    "%%time\n",
    "\"\"\"Training the agent\"\"\"\n",
    "\n",
    "# For plotting metrics\n",
    "td_reward = [] #Cumlative reward after training\n",
    "sum_penalties = 0\n",
    "\n",
    "for i in range(100000):\n",
    "    state = env.reset()\n",
    "\n",
    "    ep_reward, penalties= 0,0 #penalty in 1 episode\n",
    "    \n",
    "    done = False\n",
    "    action = policy(state)\n",
    "    \n",
    "    while not done:\n",
    "        #implement action\n",
    "        next_state, rw, done, info = env.step(action) \n",
    "        \n",
    "        ep_reward += rw\n",
    "        \n",
    "        #Update the next action\n",
    "        next_action = policy(next_state)\n",
    "        \n",
    "        #Update q-value       \n",
    "        q_table[state, action] = (1 - alpha) * q_table[state, action] + alpha * (rw + gamma * q_table[next_state, next_action])\n",
    "        \n",
    "        #assign penalties\n",
    "        if rw == -10:\n",
    "            penalties += 1\n",
    "\n",
    "        state, action = next_state, next_action #move to next state, next action\n",
    "        \n",
    "    #update reward and total penalties\n",
    "    td_reward.append(ep_reward)\n",
    "    sum_penalties+=penalties\n",
    "\n",
    "print(\"Training finished.\\n\")"
   ]
  },
  {
   "cell_type": "code",
   "execution_count": 15,
   "id": "d6dc5eaf",
   "metadata": {},
   "outputs": [
    {
     "data": {
      "image/png": "[encoded data removed]",
      "text/plain": [
       "<Figure size 1440x720 with 1 Axes>"
      ]
     },
     "metadata": {
      "needs_background": "light"
     },
     "output_type": "display_data"
    }
   ],
   "source": [
    "'''Visualize rewards in training'''\n",
    "plt.figure(figsize=(20,10))\n",
    "plt.plot(range(len(td_reward[:3000])),td_reward[:3000], color = \"r\")\n",
    "plt.plot(range(len(q_reward[:3000])),q_reward[:3000], color = \"g\")\n",
    "plt.title(\"Rewards during training with Q-learning\",fontsize = 20)\n",
    "plt.xlabel(\"Episodes\",fontsize = 20)\n",
    "plt.ylabel(\"Reward\",fontsize = 20)\n",
    "plt.legend([\"TD Learning\", \"Q-learning\"],fontsize = 20)\n",
    "plt.show()"
   ]
  },
  {
   "cell_type": "code",
   "execution_count": 16,
   "id": "50e4251a",
   "metadata": {},
   "outputs": [
    {
     "name": "stdout",
     "output_type": "stream",
     "text": [
      "Episode: 5000\n"
     ]
    },
    {
     "data": {
      "image/png": "[encoded data removed]",
      "text/plain": [
       "<Figure size 1152x288 with 1 Axes>"
      ]
     },
     "metadata": {
      "needs_background": "light"
     },
     "output_type": "display_data"
    },
    {
     "name": "stdout",
     "output_type": "stream",
     "text": [
      "Training finished.\n",
      "\n"
     ]
    }
   ],
   "source": [
    "import random\n",
    "from IPython.display import clear_output\n",
    "\n",
    "Qtable = np.zeros([env.observation_space.n, env.action_space.n])\n",
    "# Hyperparameters\n",
    "alpha = 0.1\n",
    "gamma = 0.6\n",
    "epsilon = 0.1\n",
    "\n",
    "q_episode_reward_list = []\n",
    "total_epochs, total_penalties = 0, 0\n",
    "episodes = 10000\n",
    "episode_reward = 0\n",
    "\n",
    "# For plotting metrics\n",
    "all_epochs = []\n",
    "all_penalties = []\n",
    "\n",
    "for i in range(1, 5001):\n",
    "    state = env.reset()\n",
    "\n",
    "    epochs, penalties, reward, = 0, 0, 0\n",
    "    done = False\n",
    "    \n",
    "    while not done:\n",
    "        action = policy(state)\n",
    "        next_state, reward, done, info = env.step(action) \n",
    "        next_action = policy(next_state)\n",
    "        \n",
    "        old_value = Qtable[state, action]\n",
    "        new_value = old_value + alpha*(reward + gamma *Qtable[next_state,next_action] - old_value)    \n",
    "        Qtable[state, action] = new_value\n",
    "        episode_reward = episode_reward + reward\n",
    "        if reward == -10:\n",
    "            penalties += 1\n",
    "\n",
    "        state = next_state\n",
    "        epochs += 1\n",
    "        \n",
    "    total_penalties += penalties\n",
    "    total_epochs += epochs\n",
    "    q_episode_reward_list.append(episode_reward)\n",
    "    episode_reward = 0\n",
    "        \n",
    "    if i % 100 == 0:\n",
    "        clear_output(wait=True)\n",
    "        print(f\"Episode: {i}\")\n",
    "        \n",
    "plt.rcParams[\"figure.figsize\"] = (16,4)        \n",
    "plt.plot(q_episode_reward_list)\n",
    "plt.ylabel('Reward')\n",
    "plt.xlabel('Episode Number')\n",
    "plt.title(\"Reward per Episode for Q-Learning Training\")\n",
    "plt.show()\n",
    "print(\"Training finished.\\n\") "
   ]
  },
  {
   "cell_type": "code",
   "execution_count": null,
   "id": "3350005b",
   "metadata": {},
   "outputs": [],
   "source": []
  }
 ],
 "metadata": {
  "kernelspec": {
   "display_name": "Python 3 (ipykernel)",
   "language": "python",
   "name": "python3"
  },
  "language_info": {
   "codemirror_mode": {
    "name": "ipython",
    "version": 3
   },
   "file_extension": ".py",
   "mimetype": "text/x-python",
   "name": "python",
   "nbconvert_exporter": "python",
   "pygments_lexer": "ipython3",
   "version": "3.9.7"
  }
 },
 "nbformat": 4,
 "nbformat_minor": 5
}
