{
 "cells": [
  {
   "cell_type": "code",
   "execution_count": 9,
   "id": "2f3b00d1",
   "metadata": {},
   "outputs": [],
   "source": [
    "import gym\n",
    "import numpy as np\n",
    "import random\n",
    "import matplotlib.pyplot as plt\n",
    "import time"
   ]
  },
  {
   "cell_type": "markdown",
   "id": "5047792d",
   "metadata": {},
   "source": [
    "# Random policy"
   ]
  },
  {
   "cell_type": "code",
   "execution_count": 19,
   "id": "8e99e6fd",
   "metadata": {},
   "outputs": [
    {
     "name": "stdout",
     "output_type": "stream",
     "text": [
      "Results after 100 episodes:\n",
      "Average timesteps per episode: 7.74\n",
      "Average reward per episode: 0.03\n",
      "Average time per episode: 0.0003 seconds\n"
     ]
    }
   ],
   "source": [
    "\"\"\"Evaluate random policy\"\"\"\n",
    "total_epochs, total_rewards = 0,0\n",
    "episodes = 100\n",
    "\n",
    "tic = time.perf_counter()\n",
    "#loop through 100 episodes\n",
    "for _ in range(episodes):\n",
    "    #set current state to starting environment\n",
    "    state = env.reset()\n",
    "    epochs = 0\n",
    "    \n",
    "    #done = reach the goal\n",
    "    done = False\n",
    "    \n",
    "    episode_reward = 0\n",
    "    #while not reach the goal\n",
    "    while not done:\n",
    "        #select a random action\n",
    "        action = env.action_space.sample()\n",
    "        \n",
    "        #apply the action\n",
    "        state, reward, done, info = env.step(action)\n",
    "        \n",
    "        episode_reward += reward\n",
    "\n",
    "        #increment epochs\n",
    "        epochs += 1\n",
    "\n",
    "    #after 1 episode, sum penalties and episodes\n",
    "    total_epochs += epochs\n",
    "    total_rewards += episode_reward\n",
    "\n",
    "toc = time.perf_counter()\n",
    "average_time = (toc - tic)/episodes\n",
    "#print evaluation of agents performance\n",
    "print(f\"Results after {episodes} episodes:\")\n",
    "print(f\"Average timesteps per episode: {total_epochs / episodes}\")\n",
    "print(f\"Average reward per episode: {total_rewards / episodes}\")\n",
    "print(f\"Average time per episode: {average_time:0.4f} seconds\")"
   ]
  },
  {
   "cell_type": "markdown",
   "id": "d7bc0871",
   "metadata": {},
   "source": [
    "# Q-learning"
   ]
  },
  {
   "cell_type": "code",
   "execution_count": 2,
   "id": "0db8a30a",
   "metadata": {},
   "outputs": [
    {
     "name": "stdout",
     "output_type": "stream",
     "text": [
      "\n",
      "\u001b[41mS\u001b[0mFFF\n",
      "FHFH\n",
      "FFFH\n",
      "HFFG\n"
     ]
    }
   ],
   "source": [
    "env = gym.make(\"FrozenLake-v1\", is_slippery=False)\n",
    "env.render()"
   ]
  },
  {
   "cell_type": "markdown",
   "id": "f2e17e02",
   "metadata": {},
   "source": [
    "- S means the starting point\n",
    "- H means the hole\n",
    "- F means the frozen lake\n",
    "- G means the goal location\n",
    "- The red square indicates the current location of agent"
   ]
  },
  {
   "cell_type": "code",
   "execution_count": 3,
   "id": "be897d5d",
   "metadata": {},
   "outputs": [],
   "source": [
    "#Create a q_table of size 16 x 4\n",
    "q_table = np.zeros((env.observation_space.n,env.action_space.n))"
   ]
  },
  {
   "cell_type": "code",
   "execution_count": 4,
   "id": "0447253e",
   "metadata": {},
   "outputs": [
    {
     "name": "stdout",
     "output_type": "stream",
     "text": [
      "Training finished.\n",
      "Wall time: 2.95 s\n"
     ]
    }
   ],
   "source": [
    "%%time\n",
    "# Hyperparameters\n",
    "lr = 0.5      \n",
    "discount = 1 \n",
    "epsilon = 0.1\n",
    "\n",
    "total_rewards = []\n",
    "for _ in range(10000):\n",
    "    state = env.reset()\n",
    "    done = False\n",
    "    \n",
    "    total_rewards.append(\"0\") #At the beginning, consider no rewards\n",
    "    while not done:\n",
    "        #Select action\n",
    "        if np.max(q_table[state]) > 0:\n",
    "            action = np.argmax(q_table[state]) # Exploit learnt values\n",
    "        else:\n",
    "            action = env.action_space.sample() # Explore action space\n",
    "        \n",
    "        #Implement the action\n",
    "        new_state, reward, done, info = env.step(action)\n",
    "        \n",
    "        #Update q value\n",
    "        old_value = q_table[state, action]\n",
    "        next_max = np.max(q_table[new_state])\n",
    "        new_value = (1 - lr) * old_value + lr * (reward + discount * next_max)\n",
    "        q_table[state, action] = new_value #update new q value\n",
    "        \n",
    "        #Move to next state\n",
    "        state = new_state\n",
    "        \n",
    "        #If there is reward\n",
    "        if reward:\n",
    "            total_rewards[-1] = \"1\"\n",
    "\n",
    "print(\"Training finished.\")"
   ]
  },
  {
   "cell_type": "code",
   "execution_count": 7,
   "id": "fd77184c",
   "metadata": {},
   "outputs": [
    {
     "data": {
      "image/png": "[encoded data removed]",
      "text/plain": [
       "<Figure size 864x360 with 1 Axes>"
      ]
     },
     "metadata": {
      "needs_background": "light"
     },
     "output_type": "display_data"
    }
   ],
   "source": [
    "# Plot total rewards during training\n",
    "plt.figure(figsize=(12, 5))\n",
    "plt.bar(range(len(total_rewards)), total_rewards, color = \"#900603\")\n",
    "plt.title(\"Rewards during training with Q-learning\")\n",
    "plt.xlabel(\"Episodes\")\n",
    "plt.ylabel(\"Reward\")\n",
    "plt.show()"
   ]
  },
  {
   "cell_type": "code",
   "execution_count": 14,
   "id": "868a7df3",
   "metadata": {},
   "outputs": [
    {
     "name": "stdout",
     "output_type": "stream",
     "text": [
      "Results after 100 episodes:\n",
      "Average timesteps per episode: 6.0\n",
      "Average reward per episode: 1.0\n",
      "Average time per episode: 0.0003 seconds\n"
     ]
    }
   ],
   "source": [
    "'''Evaluate agent's performance'''\n",
    "episodes = 100\n",
    "\n",
    "total_epochs, total_rewards = 0,0\n",
    "tic = time.perf_counter()\n",
    "for i in range(100):\n",
    "    state = env.reset()\n",
    "    done = False\n",
    "    \n",
    "    epochs, rewards = 0,0\n",
    "    while not done: \n",
    "        if np.max(q_table[state]) < 0: #If no action with highest value, select random action\n",
    "            action = np.env.action_space.sample()\n",
    "        else:            \n",
    "            action = np.argmax(q_table[state]) #Otherwise, choose action with highest q-value\n",
    "        #Implement the action    \n",
    "        next_state, reward, done, info = env.step(action)\n",
    "        \n",
    "        #Move to next state\n",
    "        state = next_state\n",
    "        \n",
    "        epochs += 1\n",
    "        rewards += reward\n",
    "    #After 1 episode, update total epochs\n",
    "    total_epochs+=epochs\n",
    "    total_rewards+=rewards\n",
    "\n",
    "toc = time.perf_counter()\n",
    "average_time = (toc - tic)/episodes\n",
    "#print evaluation of agents performance\n",
    "print(f\"Results after {episodes} episodes:\")\n",
    "print(f\"Average timesteps per episode: {total_epochs / episodes}\")\n",
    "print(f\"Average reward per episode: {total_rewards / episodes}\")\n",
    "print(f\"Average time per episode: {average_time:0.4f} seconds\")"
   ]
  },
  {
   "cell_type": "code",
   "execution_count": null,
   "id": "21f8db5f",
   "metadata": {},
   "outputs": [],
   "source": []
  }
 ],
 "metadata": {
  "kernelspec": {
   "display_name": "Python 3 (ipykernel)",
   "language": "python",
   "name": "python3"
  },
  "language_info": {
   "codemirror_mode": {
    "name": "ipython",
    "version": 3
   },
   "file_extension": ".py",
   "mimetype": "text/x-python",
   "name": "python",
   "nbconvert_exporter": "python",
   "pygments_lexer": "ipython3",
   "version": "3.9.7"
  }
 },
 "nbformat": 4,
 "nbformat_minor": 5
}
