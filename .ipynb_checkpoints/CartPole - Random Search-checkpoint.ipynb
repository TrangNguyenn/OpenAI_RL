{
 "cells": [
  {
   "cell_type": "code",
   "execution_count": 1,
   "id": "02c4d683",
   "metadata": {},
   "outputs": [],
   "source": [
    "import gym\n",
    "import matplotlib.pyplot as plt\n",
    "import numpy as np\n",
    "import random"
   ]
  },
  {
   "cell_type": "markdown",
   "id": "16a205a9",
   "metadata": {},
   "source": [
    "# Random Search"
   ]
  },
  {
   "cell_type": "code",
   "execution_count": 2,
   "id": "773a4961",
   "metadata": {},
   "outputs": [],
   "source": [
    "env = gym.make(\"CartPole-v0\").env"
   ]
  },
  {
   "cell_type": "code",
   "execution_count": 3,
   "id": "edee5aa2",
   "metadata": {},
   "outputs": [],
   "source": [
    "#Function to run 1 episode\n",
    "def run_episode(env, params):\n",
    "    #reset to a random observation\n",
    "    state = env.reset()\n",
    "    sum_reward = 0\n",
    "    for _ in range(200):\n",
    "        #Take action left or right based on a random result        \n",
    "        if(np.matmul(params,state) < 0):\n",
    "            action = 0\n",
    "        else:\n",
    "            action = 1\n",
    "        state, reward, done, info = env.step(action)\n",
    "        \n",
    "        #Update reward\n",
    "        sum_reward += reward\n",
    "        if done:\n",
    "            break\n",
    "    return sum_reward"
   ]
  },
  {
   "cell_type": "code",
   "execution_count": 8,
   "id": "d68ea607",
   "metadata": {},
   "outputs": [],
   "source": [
    "def rand_search():\n",
    "    best_params = 0\n",
    "    best_reward = 0\n",
    "    for i in range(1000):\n",
    "        params = np.random.rand(4) * 2 - 1\n",
    "        rewards = run_episode(env,params)\n",
    "        #Check if it is the best reward\n",
    "        if rewards > best_reward:\n",
    "            #If yes, update best params and rewards\n",
    "            best_reward = rewards\n",
    "            best_params = params\n",
    "            \n",
    "            # considered solved if the agent lasts 200 timesteps\n",
    "        if rewards == 200:\n",
    "            return i #Return successful episode number\n",
    "            break"
   ]
  },
  {
   "cell_type": "code",
   "execution_count": 9,
   "id": "f754071c",
   "metadata": {},
   "outputs": [],
   "source": [
    "#Run random search 1000 time\n",
    "search_1000 = []\n",
    "\n",
    "for _ in range(1000):\n",
    "    search_1000.append(rand_search())"
   ]
  },
  {
   "cell_type": "code",
   "execution_count": 10,
   "id": "ffb155d1",
   "metadata": {},
   "outputs": [
    {
     "data": {
      "image/png": "[encoded data removed]",
      "text/plain": [
       "<Figure size 720x576 with 1 Axes>"
      ]
     },
     "metadata": {
      "needs_background": "light"
     },
     "output_type": "display_data"
    }
   ],
   "source": [
    "#Visualize\n",
    "plt.figure(figsize = (10,8))\n",
    "plt.hist(search_1000,100,color = 'r', alpha = 0.3)\n",
    "plt.title('1000 Random Search on CartPole')\n",
    "plt.xlabel('Episodes reach 200 timesteps')\n",
    "plt.ylabel('Frequency')\n",
    "plt.show()"
   ]
  },
  {
   "cell_type": "code",
   "execution_count": 11,
   "id": "14ed6cfe",
   "metadata": {},
   "outputs": [
    {
     "name": "stdout",
     "output_type": "stream",
     "text": [
      "On average, it took 12.928 episodes to keep the pole up to 200 timesteps\n"
     ]
    }
   ],
   "source": [
    "print(f\"On average, it took {np.mean(search_1000)} episodes to keep the pole up to 200 timesteps\")"
   ]
  }
 ],
 "metadata": {
  "kernelspec": {
   "display_name": "Python 3 (ipykernel)",
   "language": "python",
   "name": "python3"
  },
  "language_info": {
   "codemirror_mode": {
    "name": "ipython",
    "version": 3
   },
   "file_extension": ".py",
   "mimetype": "text/x-python",
   "name": "python",
   "nbconvert_exporter": "python",
   "pygments_lexer": "ipython3",
   "version": "3.9.7"
  }
 },
 "nbformat": 4,
 "nbformat_minor": 5
}
